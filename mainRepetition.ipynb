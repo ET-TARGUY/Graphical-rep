{
 "cells": [
  {
   "cell_type": "code",
   "execution_count": 1,
   "metadata": {},
   "outputs": [],
   "source": [
    "datasetsNames = {1:\"1402\", 2:\"200213_3M_data\", 3:\"1704/M3M\", 4:\"200211_Veolia_M3M\", 5:\"3M\", 6:\"3MNEW\"}\n",
    "datasetNumber = 5"
   ]
  },
  {
   "cell_type": "code",
   "execution_count": 2,
   "metadata": {},
   "outputs": [],
   "source": [
    "%run classes/Shapefile.ipynb\n",
    "%run classes/Repetition.ipynb\n",
    "inputFolder = \"1-Original\"\n",
    "outputFolder = \"2-RemovedRep\""
   ]
  },
  {
   "cell_type": "code",
   "execution_count": 3,
   "metadata": {},
   "outputs": [],
   "source": [
    "repetition = Repetition(datasetNumber, inputFolder, outputFolder)"
   ]
  },
  {
   "cell_type": "code",
   "execution_count": 4,
   "metadata": {},
   "outputs": [
    {
     "name": "stdout",
     "output_type": "stream",
     "text": [
      "***************************Shapefiles paths representing nodes components***************************\n",
      "Path : Data SIG/3M/1-Original/Manholes.shp\n",
      "Path : Data SIG/3M/1-Original/Structures.shp\n",
      "Path : Data SIG/3M/1-Original/Appariel.shp\n",
      "Path : Data SIG/3M/1-Original/TreatmentPlant.shp\n",
      "Path : Data SIG/3M/1-Original/PosteRefoulement.shp\n",
      "Path : Data SIG/3M/1-Original/Deversoir.shp\n"
     ]
    },
    {
     "data": {
      "text/plain": [
       "True"
      ]
     },
     "execution_count": 4,
     "metadata": {},
     "output_type": "execute_result"
    }
   ],
   "source": [
    "commentsActive = True\n",
    "repetition.find_all_components_points_path(commentsActive)"
   ]
  },
  {
   "cell_type": "code",
   "execution_count": 5,
   "metadata": {},
   "outputs": [
    {
     "name": "stdout",
     "output_type": "stream",
     "text": [
      "*****************************************Opening databases******************************************\n",
      "The file Data SIG/3M/1-Original/Manholes.shp is correctly opned\n",
      "The file Data SIG/3M/1-Original/Structures.shp is correctly opned\n",
      "The file Data SIG/3M/1-Original/Appariel.shp is correctly opned\n",
      "The file Data SIG/3M/1-Original/TreatmentPlant.shp is correctly opned\n",
      "The file Data SIG/3M/1-Original/PosteRefoulement.shp is correctly opned\n",
      "The file Data SIG/3M/1-Original/Deversoir.shp is correctly opned\n"
     ]
    }
   ],
   "source": [
    "repetition.read_all_components_points_paths(True)"
   ]
  },
  {
   "cell_type": "code",
   "execution_count": 6,
   "metadata": {},
   "outputs": [
    {
     "name": "stdout",
     "output_type": "stream",
     "text": [
      "repeated ids ['ass_rega_0071346', 'ass_rega_0071353', 'ass_rega_0072354', 'ass_rega_0073376', 'ass_rega_0070505', 'ass_rega_0071379', 'ass_rega_0071551', 'ass_rega_0071645', 'ass_rega_0070608', 'ass_rega_0071008', 'ass_rega_0070263', 'ass_rega_0073247', 'ass_rega_0071555', 'ass_rega_0071504', 'ass_rega_0072297', 'ass_rega_0071788', 'ass_rega_0071554', 'ass_rega_0071351', 'ass_rega_0071703', 'ass_rega_0071858', 'ass_rega_0071356', 'ass_rega_0072337', 'ass_rega_0071354', 'ass_rega_0073101', 'ass_rega_0030980', 'ass_rega_0071348', 'ass_rega_0071357', 'ass_rega_0073050', 'ass_rega_0069337']\n",
      "The component Manholes is saved in the folder 2-RemovedRep\n",
      "repeated ids ['ass_ouvr_0000509', 'ass_ouvr_0000505', 'ass_ouvr_0000416', 'ass_ouvr_0000492', 'ass_ouvr_0000413', 'ass_ouvr_0000475', 'ass_ouvr_0000404', 'ass_ouvr_0000401', 'ass_ouvr_0000420', 'ass_ouvr_0000463', 'ass_ouvr_0000474', 'ass_ouvr_0000460', 'ass_ouvr_0000478', 'ass_ouvr_0000418', 'ass_ouvr_0000488', 'ass_ouvr_0000421', 'ass_ouvr_0000483', 'ass_ouvr_0000392', 'ass_ouvr_0000458', 'ass_ouvr_0000409', 'ass_ouvr_0000503', 'ass_ouvr_0000400', 'ass_ouvr_0000424', 'ass_ouvr_0000489', 'ass_ouvr_0000435', 'ass_ouvr_0000396', 'ass_ouvr_0000472', 'ass_ouvr_0000466', 'ass_ouvr_0000451', 'ass_ouvr_0000514', 'ass_ouvr_0000495', 'ass_ouvr_0000459', 'ass_ouvr_0000481', 'ass_ouvr_0000494', 'ass_ouvr_0000419', 'ass_ouvr_0000480', 'ass_ouvr_0000504', 'ass_ouvr_0000399', 'ass_ouvr_0000462', 'ass_ouvr_0000506', 'ass_ouvr_0000412', 'ass_ouvr_0000519', 'ass_ouvr_0000496', 'ass_ouvr_0000423', 'ass_ouvr_0000490', 'ass_ouvr_0000397', 'ass_ouvr_0000491', 'ass_ouvr_0000439', 'ass_ouvr_0000438', 'ass_ouvr_0000450', 'ass_ouvr_0000436', 'ass_ouvr_0000417', 'ass_ouvr_0000410', 'ass_ouvr_0000394', 'ass_ouvr_0000485', 'ass_ouvr_0000487', 'ass_ouvr_0000507', 'ass_ouvr_0000486', 'ass_ouvr_0000473', 'ass_ouvr_0000508', 'ass_ouvr_0000406', 'ass_ouvr_0000469', 'ass_ouvr_0000398', 'ass_ouvr_0000476', 'ass_ouvr_0000477', 'ass_ouvr_0000407', 'ass_ouvr_0000471', 'ass_ouvr_0000482', 'ass_ouvr_0000403', 'ass_ouvr_0000414', 'ass_ouvr_0000468', 'ass_ouvr_0000425', 'ass_ouvr_0000461', 'ass_ouvr_0000470', 'ass_ouvr_0000408', 'ass_ouvr_0000465', 'ass_ouvr_0000395', 'ass_ouvr_0000464', 'ass_ouvr_0000449', 'ass_ouvr_0000426', 'ass_ouvr_0000415', 'ass_ouvr_0000393', 'ass_ouvr_0000402', 'ass_ouvr_0000448', 'ass_ouvr_0000437', 'ass_ouvr_0000493', 'ass_ouvr_0000440', 'ass_ouvr_0000405', 'ass_ouvr_0000479', 'ass_ouvr_0000411']\n",
      "The component Structures is saved in the folder 2-RemovedRep\n",
      "repeated ids ['ass_appa_0000204', 'ass_appa_0001023', 'ass_appa_0000251', 'ass_appa_0000955', 'ass_appa_0004245', 'ass_appa_0000294', 'ass_appa_0004219', 'ass_appa_0004244', 'ass_appa_0000241', 'ass_appa_0000245', 'ass_appa_0004216', 'ass_appa_0001047', 'ass_appa_0000256', 'ass_appa_0001050', 'ass_appa_0001084', 'ass_appa_0000988', 'ass_appa_0000950', 'ass_appa_0004284', 'ass_appa_0004215', 'ass_appa_0001005', 'ass_appa_0001018', 'ass_appa_0000344', 'ass_appa_0000262', 'ass_appa_0000994', 'ass_appa_0004218', 'ass_appa_0001024', 'ass_appa_0000214', 'ass_appa_0000250', 'ass_appa_0000949', 'ass_appa_0001019', 'ass_appa_0004210', 'ass_appa_0004213', 'ass_appa_0000989', 'ass_appa_0001041', 'ass_appa_0000238', 'ass_appa_0000260', 'ass_appa_0001052', 'ass_appa_0000322', 'ass_appa_0000340', 'ass_appa_0000969', 'ass_appa_0000349', 'ass_appa_0000993', 'ass_appa_0000278', 'ass_appa_0000308', 'ass_appa_0000332', 'ass_appa_0000215', 'ass_appa_0000277', 'ass_appa_0004214', 'ass_appa_0000231', 'ass_appa_0000315', 'ass_appa_0000239', 'ass_appa_0000973', 'ass_appa_0001067', 'ass_appa_0000194', 'ass_appa_0000997', 'ass_appa_0000388', 'ass_appa_0004209', 'ass_appa_0000225', 'ass_appa_0004220', 'ass_appa_0000338', 'ass_appa_0000984', 'ass_appa_0000206', 'ass_appa_0001058', 'ass_appa_0001087', 'ass_appa_0001090', 'ass_appa_0001036', 'ass_appa_0001066', 'ass_appa_0001088', 'ass_appa_0000313', 'ass_appa_0000972', 'ass_appa_0000280', 'ass_appa_0000981', 'ass_appa_0001068', 'ass_appa_0000212', 'ass_appa_0004283', 'ass_appa_0000217', 'ass_appa_0001017', 'ass_appa_0000283', 'ass_appa_0001020', 'ass_appa_0000247', 'ass_appa_0001002', 'ass_appa_0001064', 'ass_appa_0001055', 'ass_appa_0000205', 'ass_appa_0001059', 'ass_appa_0000230', 'ass_appa_0004248', 'ass_appa_0001053', 'ass_appa_0000218', 'ass_appa_0001085', 'ass_appa_0004207', 'ass_appa_0000960', 'ass_appa_0000356', 'ass_appa_0000952', 'ass_appa_0000291', 'ass_appa_0000295', 'ass_appa_0000333', 'ass_appa_0000257', 'ass_appa_0001054', 'ass_appa_0001021', 'ass_appa_0001014', 'ass_appa_0000267', 'ass_appa_0001035', 'ass_appa_0000953', 'ass_appa_0001043', 'ass_appa_0000962', 'ass_appa_0000383', 'ass_appa_0000991', 'ass_appa_0000242', 'ass_appa_0000285', 'ass_appa_0000328', 'ass_appa_0001001', 'ass_appa_0000175', 'ass_appa_0000396', 'ass_appa_0000995', 'ass_appa_0000243', 'ass_appa_0004281', 'ass_appa_0001025', 'ass_appa_0000289', 'ass_appa_0004282', 'ass_appa_0000270', 'ass_appa_0000229', 'ass_appa_0000323', 'ass_appa_0000917', 'ass_appa_0000325', 'ass_appa_0000971', 'ass_appa_0000314', 'ass_appa_0001016', 'ass_appa_0001003', 'ass_appa_0000334', 'ass_appa_0000376', 'ass_appa_0000375', 'ass_appa_0001042', 'ass_appa_0000906', 'ass_appa_0001051', 'ass_appa_0001060', 'ass_appa_0001015', 'ass_appa_0000954', 'ass_appa_0000290', 'ass_appa_0000293', 'ass_appa_0000373', 'ass_appa_0000998', 'ass_appa_0001063', 'ass_appa_0000365', 'ass_appa_0000298', 'ass_appa_0001048', 'ass_appa_0001049', 'ass_appa_0000279', 'ass_appa_0000366', 'ass_appa_0004217', 'ass_appa_0000968', 'ass_appa_0000905', 'ass_appa_0004212', 'ass_appa_0000992', 'ass_appa_0001045', 'ass_appa_0000321', 'ass_appa_0000266', 'ass_appa_0004249', 'ass_appa_0001006', 'ass_appa_0004286', 'ass_appa_0000951', 'ass_appa_0000358', 'ass_appa_0004211', 'ass_appa_0000192', 'ass_appa_0001061', 'ass_appa_0004250', 'ass_appa_0000361', 'ass_appa_0000302', 'ass_appa_0004291', 'ass_appa_0000982', 'ass_appa_0001030', 'ass_appa_0000996', 'ass_appa_0000970', 'ass_appa_0000273', 'ass_appa_0001065', 'ass_appa_0000901', 'ass_appa_0001086', 'ass_appa_0000364', 'ass_appa_0000310', 'ass_appa_0000967', 'ass_appa_0000288', 'ass_appa_0001022', 'ass_appa_0000224', 'ass_appa_0001070', 'ass_appa_0000346', 'ass_appa_0004246', 'ass_appa_0000269', 'ass_appa_0001004', 'ass_appa_0001056', 'ass_appa_0000974', 'ass_appa_0000305', 'ass_appa_0000985', 'ass_appa_0001044', 'ass_appa_0000235', 'ass_appa_0000300', 'ass_appa_0000980', 'ass_appa_0000240', 'ass_appa_0004247', 'ass_appa_0000292', 'ass_appa_0000320', 'ass_appa_0000335', 'ass_appa_0001034', 'ass_appa_0000281', 'ass_appa_0001033', 'ass_appa_0000319', 'ass_appa_0000961', 'ass_appa_0000377', 'ass_appa_0000268', 'ass_appa_0000189', 'ass_appa_0000339', 'ass_appa_0000348', 'ass_appa_0000964', 'ass_appa_0000303', 'ass_appa_0000990', 'ass_appa_0000272', 'ass_appa_0001069', 'ass_appa_0000275', 'ass_appa_0000360', 'ass_appa_0001032', 'ass_appa_0001039', 'ass_appa_0000956', 'ass_appa_0000258', 'ass_appa_0000983', 'ass_appa_0000957', 'ass_appa_0004208', 'ass_appa_0000195', 'ass_appa_0004285', 'ass_appa_0001046', 'ass_appa_0001057', 'ass_appa_0000255', 'ass_appa_0001089', 'ass_appa_0000394']\n",
      "The component Appariel is saved in the folder 2-RemovedRep\n",
      "repeated ids []\n",
      "The component TreatmentPlant is saved in the folder 2-RemovedRep\n",
      "repeated ids ['ass_pref_0000302', 'ass_pref_0000282', 'ass_pref_0000303']\n",
      "The component PosteRefoulement is saved in the folder 2-RemovedRep\n",
      "repeated ids []\n",
      "The component Deversoir is saved in the folder 2-RemovedRep\n",
      "Removed Duplicate Rows:\n",
      "+------------------+--------------+\n",
      "|    Component     | Removed Rows |\n",
      "+------------------+--------------+\n",
      "|     Manholes     |      29      |\n",
      "|    Structures    |      90      |\n",
      "|     Appariel     |     232      |\n",
      "|  TreatmentPlant  |      0       |\n",
      "| PosteRefoulement |      3       |\n",
      "|    Deversoir     |      0       |\n",
      "+------------------+--------------+\n"
     ]
    }
   ],
   "source": [
    "repetition.remove_repetitions_from_components_points(commentsActive)"
   ]
  },
  {
   "cell_type": "code",
   "execution_count": 7,
   "metadata": {},
   "outputs": [
    {
     "name": "stdout",
     "output_type": "stream",
     "text": [
      "The shapefile Data SIG/3M/1-Original/Pipes.shp is opned\n",
      "repeated ids ['ass_cana_0051510', 'ass_cana_0050536', 'ass_cana_0039180', 'ass_cana_0050776', 'ass_cana_0050849', 'ass_cana_0050216', 'ass_cana_0050848', 'ass_cana_0051504', 'ass_cana_0050846', 'ass_cana_0050845', 'ass_cana_0049346', 'ass_cana_0050983', 'ass_cana_0051512', 'ass_cana_0050354', 'ass_cana_0051511', 'ass_cana_0050493', 'ass_cana_0041062', 'ass_cana_0050155', 'ass_cana_0050505', 'ass_cana_0050459', 'ass_cana_0049345', 'ass_cana_0050775', 'ass_cana_0050460', 'ass_cana_0050535', 'ass_cana_0050462', 'ass_cana_0051508']\n",
      "The number of removed pipes is 36\n",
      "the pipe databse is saved in Data SIG/3M/2-RemovedRep/Pipes.shp\n"
     ]
    }
   ],
   "source": [
    "repetition.remove_repetitions_pipes(True)"
   ]
  },
  {
   "cell_type": "code",
   "execution_count": 8,
   "metadata": {},
   "outputs": [],
   "source": [
    "inputFolder = \"2-RemovedRep\"\n",
    "outputFolder = \"3-RemovedRepPs\"\n",
    "%run classes/Shapefile.ipynb\n",
    "%run classes/Repetition.ipynb"
   ]
  },
  {
   "cell_type": "code",
   "execution_count": 9,
   "metadata": {},
   "outputs": [],
   "source": [
    "repetition = Repetition(datasetNumber, inputFolder, outputFolder)"
   ]
  },
  {
   "cell_type": "code",
   "execution_count": 10,
   "metadata": {},
   "outputs": [
    {
     "name": "stdout",
     "output_type": "stream",
     "text": [
      "***************************Shapefiles paths representing nodes components***************************\n",
      "Path : Data SIG/3M/2-RemovedRep/Manholes.shp\n",
      "Path : Data SIG/3M/2-RemovedRep/Structures.shp\n",
      "Path : Data SIG/3M/2-RemovedRep/Appariel.shp\n",
      "Path : Data SIG/3M/2-RemovedRep/TreatmentPlant.shp\n",
      "Path : Data SIG/3M/2-RemovedRep/PosteRefoulement.shp\n",
      "Path : Data SIG/3M/2-RemovedRep/Deversoir.shp\n",
      "*****************************************Opening databases******************************************\n",
      "The file Data SIG/3M/2-RemovedRep/Manholes.shp is correctly opned\n",
      "The file Data SIG/3M/2-RemovedRep/Structures.shp is correctly opned\n",
      "The file Data SIG/3M/2-RemovedRep/Appariel.shp is correctly opned\n",
      "The file Data SIG/3M/2-RemovedRep/TreatmentPlant.shp is correctly opned\n",
      "The file Data SIG/3M/2-RemovedRep/PosteRefoulement.shp is correctly opned\n",
      "The file Data SIG/3M/2-RemovedRep/Deversoir.shp is correctly opned\n"
     ]
    }
   ],
   "source": [
    "repetition.find_all_components_points_path(commentsActive)\n",
    "repetition.read_all_components_points_paths(True)"
   ]
  },
  {
   "cell_type": "code",
   "execution_count": 11,
   "metadata": {},
   "outputs": [
    {
     "name": "stdout",
     "output_type": "stream",
     "text": [
      "repeated ids ['ass_rega_0056488', 'ass_rega_0034929', 'ass_rega_0025660', 'ass_rega_0072668', 'ass_rega_0067711', 'ass_rega_0040020', 'ass_rega_0035624', 'ass_rega_0029523', 'ass_rega_0066874', 'ass_rega_0066943', 'ass_rega_0028493', 'ass_rega_0031206', 'ass_rega_0032975', 'ass_rega_0066859', 'ass_rega_0067350', 'ass_rega_0066835', 'ass_rega_0028494', 'ass_rega_0035002', 'ass_rega_0028495', 'ass_rega_0064157', 'ass_rega_0066832', 'ass_rega_0073307', 'ass_rega_0028496', 'ass_rega_0066799', 'ass_rega_0066840', 'ass_rega_0028492', 'ass_rega_0073318', 'ass_rega_0055711', 'ass_rega_0036209', 'ass_rega_0035671', 'ass_rega_0057868', 'ass_rega_0066926']\n",
      "The component Manholes is saved in the folder 3-RemovedRepPs\n",
      "repeated ids []\n",
      "The component Structures is saved in the folder 3-RemovedRepPs\n",
      "repeated ids []\n",
      "The component Appariel is saved in the folder 3-RemovedRepPs\n",
      "repeated ids []\n",
      "The component TreatmentPlant is saved in the folder 3-RemovedRepPs\n",
      "repeated ids ['ass_pref_0000299']\n",
      "The component PosteRefoulement is saved in the folder 3-RemovedRepPs\n",
      "repeated ids []\n",
      "The component Deversoir is saved in the folder 3-RemovedRepPs\n",
      "Removed Duplicate Rows Based on Geometry:\n",
      "+------------------+--------------+\n",
      "|    Component     | Removed Rows |\n",
      "+------------------+--------------+\n",
      "|     Manholes     |      32      |\n",
      "|    Structures    |      0       |\n",
      "|     Appariel     |      0       |\n",
      "|  TreatmentPlant  |      0       |\n",
      "| PosteRefoulement |      1       |\n",
      "|    Deversoir     |      0       |\n",
      "+------------------+--------------+\n"
     ]
    }
   ],
   "source": [
    "repetition.remove_repetitions_nodes_based_on_geometry_components(True)"
   ]
  },
  {
   "cell_type": "code",
   "execution_count": 12,
   "metadata": {},
   "outputs": [
    {
     "name": "stdout",
     "output_type": "stream",
     "text": [
      "The shapefile Data SIG/3M/2-RemovedRep/Pipes.shp is opned\n",
      "repeated ids ['ass_cana_0002985', 'ass_cana_0052919', 'ass_cana_0020542', 'ass_cana_0052923', 'ass_cana_0015764', 'ass_cana_0052921', 'ass_cana_0040323', 'ass_cana_0022961', 'ass_cana_0052930', 'ass_cana_0013506', 'ass_cana_0052915', 'ass_cana_0052912', 'ass_cana_0007705', 'ass_cana_0052948', 'ass_cana_0004157', 'ass_cana_0024228', 'ass_cana_0052947', 'ass_cana_0051074', 'ass_cana_0052933', 'ass_cana_0052931', 'ass_cana_0000230', 'ass_cana_0052944', 'ass_cana_0052932', 'ass_cana_0010576', 'ass_cana_0052941', 'ass_cana_0052909', 'ass_cana_0050453', 'ass_cana_0052945', 'ass_cana_0000448', 'ass_cana_0052920', 'ass_cana_0008957', 'ass_cana_0052903', 'ass_cana_0013700', 'ass_cana_0052910', 'ass_cana_0052946', 'ass_cana_0050454', 'ass_cana_0052943']\n",
      "The number of removed pipes is 37\n",
      "The pipe databse is saved in Data SIG/3M/3-RemovedRepPs/Pipes.shp\n"
     ]
    }
   ],
   "source": [
    "repetition.remove_repetitions_pipes_based_on_geometry(True)"
   ]
  },
  {
   "cell_type": "code",
   "execution_count": 13,
   "metadata": {},
   "outputs": [],
   "source": [
    "%run classes/Shapefile.ipynb\n",
    "%run classes/Repetition.ipynb\n",
    "inputFolder = \"4-CombinedCmp\"\n",
    "outputFolder = \"6-FinallRep\""
   ]
  },
  {
   "cell_type": "code",
   "execution_count": 14,
   "metadata": {},
   "outputs": [],
   "source": [
    "repetition = Repetition(datasetNumber, inputFolder, outputFolder)"
   ]
  },
  {
   "cell_type": "code",
   "execution_count": 15,
   "metadata": {},
   "outputs": [
    {
     "name": "stdout",
     "output_type": "stream",
     "text": [
      "The shapefile Data SIG/3M/4-CombinedCmp/Nodes.shp is opned\n",
      "The number of elements that will be removed : 13\n"
     ]
    }
   ],
   "source": [
    "repetition.repeated_nodes_by_position()"
   ]
  },
  {
   "cell_type": "code",
   "execution_count": 16,
   "metadata": {},
   "outputs": [
    {
     "name": "stdout",
     "output_type": "stream",
     "text": [
      "The shapefile Data SIG/3M/4-CombinedCmp/Nodes.shp is opned\n",
      "The number of removed pipes is 13\n",
      "The pipe databse is saved in Data SIG/3M/6-FinallRep/Nodes.shp\n"
     ]
    }
   ],
   "source": [
    "repetition.remove_repetitions_nodes_based_on_geometry_combined_file()"
   ]
  }
 ],
 "metadata": {
  "kernelspec": {
   "display_name": "DataSig",
   "language": "python",
   "name": "python3"
  },
  "language_info": {
   "codemirror_mode": {
    "name": "ipython",
    "version": 3
   },
   "file_extension": ".py",
   "mimetype": "text/x-python",
   "name": "python",
   "nbconvert_exporter": "python",
   "pygments_lexer": "ipython3",
   "version": "3.11.0"
  },
  "orig_nbformat": 4
 },
 "nbformat": 4,
 "nbformat_minor": 2
}
