{
 "cells": [
  {
   "cell_type": "code",
   "execution_count": 7,
   "metadata": {},
   "outputs": [],
   "source": [
    "datasetsNames = {1:\"3M\"}\n",
    "datasetNumber = 1"
   ]
  },
  {
   "cell_type": "code",
   "execution_count": 8,
   "metadata": {},
   "outputs": [],
   "source": [
    "%run classes/Shapefile.ipynb\n",
    "%run classes/Combination.ipynb\n",
    "inputFolder = \"3-RemovedRepPs\"\n",
    "outputFolder = \"4-CombinedCmp\""
   ]
  },
  {
   "cell_type": "code",
   "execution_count": 9,
   "metadata": {},
   "outputs": [],
   "source": [
    "combination =  Combination(datasetNumber, inputFolder, outputFolder)"
   ]
  },
  {
   "cell_type": "code",
   "execution_count": 10,
   "metadata": {},
   "outputs": [
    {
     "name": "stdout",
     "output_type": "stream",
     "text": [
      "***************************Shapefiles paths representing nodes components***************************\n",
      "Path : Data SIG/200211_Veolia_M3M/3-RemovedRepPs/Manholes.shp\n",
      "Path : Data SIG/200211_Veolia_M3M/3-RemovedRepPs/Structures.shp\n",
      "Path : Data SIG/200211_Veolia_M3M/3-RemovedRepPs/Accessories.shp\n"
     ]
    },
    {
     "data": {
      "text/plain": [
       "True"
      ]
     },
     "execution_count": 10,
     "metadata": {},
     "output_type": "execute_result"
    }
   ],
   "source": [
    "combination.find_all_components_points_path(True)"
   ]
  },
  {
   "cell_type": "code",
   "execution_count": 11,
   "metadata": {},
   "outputs": [
    {
     "name": "stdout",
     "output_type": "stream",
     "text": [
      "*****************************************Opening databases******************************************\n",
      "The file Data SIG/200211_Veolia_M3M/3-RemovedRepPs/Manholes.shp is correctly opned\n",
      "The file Data SIG/200211_Veolia_M3M/3-RemovedRepPs/Structures.shp is correctly opned\n",
      "The file Data SIG/200211_Veolia_M3M/3-RemovedRepPs/Accessories.shp is correctly opned\n"
     ]
    }
   ],
   "source": [
    "combination.read_all_components_points_paths(True)"
   ]
  },
  {
   "cell_type": "code",
   "execution_count": 12,
   "metadata": {},
   "outputs": [
    {
     "name": "stdout",
     "output_type": "stream",
     "text": [
      "The nodes database is saved in Data SIG/200211_Veolia_M3M/4-CombinedCmp/Nodes.shp\n"
     ]
    }
   ],
   "source": [
    "combination.combine_components_points()"
   ]
  },
  {
   "cell_type": "code",
   "execution_count": null,
   "metadata": {},
   "outputs": [],
   "source": []
  }
 ],
 "metadata": {
  "kernelspec": {
   "display_name": "DataSig",
   "language": "python",
   "name": "python3"
  },
  "language_info": {
   "codemirror_mode": {
    "name": "ipython",
    "version": 3
   },
   "file_extension": ".py",
   "mimetype": "text/x-python",
   "name": "python",
   "nbconvert_exporter": "python",
   "pygments_lexer": "ipython3",
   "version": "3.11.0"
  },
  "orig_nbformat": 4
 },
 "nbformat": 4,
 "nbformat_minor": 2
}
