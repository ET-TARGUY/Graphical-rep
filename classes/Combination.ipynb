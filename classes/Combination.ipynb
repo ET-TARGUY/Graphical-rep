{
 "cells": [
  {
   "cell_type": "code",
   "execution_count": null,
   "metadata": {},
   "outputs": [],
   "source": [
    "class Combination(Shapefile):\n",
    "    def __init__(self, datasetNumber, inputFolder, outputFolder):\n",
    "        super().__init__(datasetNumber, inputFolder, outputFolder)\n",
    "    def combine_components_points(self):\n",
    "        '''\n",
    "        Combines multiple shapefiles into a single GeoDataFrame and adds a 'source_1' attribute.\n",
    "        '''\n",
    "        # Create a list to store the individual GeoDataFrames\n",
    "        gdfs = []\n",
    "\n",
    "        # Iterate through each shapefile path and load it into a GeoDataFrame\n",
    "        for key, gdf in self.components_points_gdf.items():\n",
    "            gdf['source_1'] = key\n",
    "            gdfs.append(gdf)\n",
    "        # Combine all GeoDataFrames in the list into a single GeoDataFrame\n",
    "        combined_gdf = pd.concat(gdfs, ignore_index=True)\n",
    "        # Save the combined GeoDataFrame to a new shapefile\n",
    "        \n",
    "        nodesPath = \"Data SIG/\" + self.dataset + \"/\"+self.output_folder+\"/Nodes.shp\"  # Path to the nodes shapefile\n",
    "        print(f'The nodes database is saved in {nodesPath}')\n",
    "        combined_gdf.to_file(nodesPath, driver='ESRI Shapefile')  "
   ]
  }
 ],
 "metadata": {
  "language_info": {
   "name": "python"
  },
  "orig_nbformat": 4
 },
 "nbformat": 4,
 "nbformat_minor": 2
}
