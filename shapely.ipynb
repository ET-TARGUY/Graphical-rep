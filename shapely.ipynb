{
 "cells": [
  {
   "cell_type": "code",
   "execution_count": 1,
   "metadata": {},
   "outputs": [],
   "source": [
    "from shapely import Point, LineString, Polygon"
   ]
  },
  {
   "cell_type": "code",
   "execution_count": 11,
   "metadata": {},
   "outputs": [
    {
     "data": {
      "text/plain": [
       "'Point'"
      ]
     },
     "execution_count": 11,
     "metadata": {},
     "output_type": "execute_result"
    }
   ],
   "source": [
    "\n",
    "point = Point(0,1)\n",
    "point.geom_type"
   ]
  },
  {
   "cell_type": "code",
   "execution_count": 12,
   "metadata": {},
   "outputs": [
    {
     "data": {
      "text/plain": [
       "0.0"
      ]
     },
     "execution_count": 12,
     "metadata": {},
     "output_type": "execute_result"
    }
   ],
   "source": [
    "point.area\n"
   ]
  },
  {
   "cell_type": "code",
   "execution_count": 13,
   "metadata": {},
   "outputs": [
    {
     "data": {
      "text/plain": [
       "0.0"
      ]
     },
     "execution_count": 13,
     "metadata": {},
     "output_type": "execute_result"
    }
   ],
   "source": [
    "point.length"
   ]
  },
  {
   "cell_type": "code",
   "execution_count": 14,
   "metadata": {},
   "outputs": [
    {
     "data": {
      "text/plain": [
       "(0.0, 1.0, 0.0, 1.0)"
      ]
     },
     "execution_count": 14,
     "metadata": {},
     "output_type": "execute_result"
    }
   ],
   "source": [
    "point.bounds"
   ]
  },
  {
   "cell_type": "code",
   "execution_count": 15,
   "metadata": {},
   "outputs": [
    {
     "data": {
      "text/plain": [
       "0.0"
      ]
     },
     "execution_count": 15,
     "metadata": {},
     "output_type": "execute_result"
    }
   ],
   "source": [
    "point.x"
   ]
  },
  {
   "cell_type": "code",
   "execution_count": 21,
   "metadata": {},
   "outputs": [
    {
     "data": {
      "text/plain": [
       "[(0.0, 1.0)]"
      ]
     },
     "execution_count": 21,
     "metadata": {},
     "output_type": "execute_result"
    }
   ],
   "source": [
    "point.coords[0:]"
   ]
  },
  {
   "cell_type": "code",
   "execution_count": 22,
   "metadata": {},
   "outputs": [
    {
     "data": {
      "image/svg+xml": [
       "<svg xmlns=\"http://www.w3.org/2000/svg\" xmlns:xlink=\"http://www.w3.org/1999/xlink\" width=\"100.0\" height=\"100.0\" viewBox=\"-1.0 0.0 2.0 2.0\" preserveAspectRatio=\"xMinYMin meet\"><g transform=\"matrix(1,0,0,-1,0,2.0)\"><circle cx=\"0.0\" cy=\"1.0\" r=\"0.06\" stroke=\"#555555\" stroke-width=\"0.02\" fill=\"#66cc99\" opacity=\"0.6\" /></g></svg>"
      ],
      "text/plain": [
       "<POINT (0 1)>"
      ]
     },
     "execution_count": 22,
     "metadata": {},
     "output_type": "execute_result"
    }
   ],
   "source": [
    "Point(point)"
   ]
  },
  {
   "cell_type": "code",
   "execution_count": 23,
   "metadata": {},
   "outputs": [],
   "source": [
    "line = LineString([(0, 0), (1, 1)])"
   ]
  },
  {
   "cell_type": "code",
   "execution_count": 24,
   "metadata": {},
   "outputs": [
    {
     "data": {
      "image/svg+xml": [
       "<svg xmlns=\"http://www.w3.org/2000/svg\" xmlns:xlink=\"http://www.w3.org/1999/xlink\" width=\"100.0\" height=\"100.0\" viewBox=\"-0.04 -0.04 1.08 1.08\" preserveAspectRatio=\"xMinYMin meet\"><g transform=\"matrix(1,0,0,-1,0,1.0)\"><polyline fill=\"none\" stroke=\"#66cc99\" stroke-width=\"0.0216\" points=\"0.0,0.0 1.0,1.0\" opacity=\"0.8\" /></g></svg>"
      ],
      "text/plain": [
       "<LINESTRING (0 0, 1 1)>"
      ]
     },
     "execution_count": 24,
     "metadata": {},
     "output_type": "execute_result"
    }
   ],
   "source": [
    "line"
   ]
  },
  {
   "cell_type": "code",
   "execution_count": 25,
   "metadata": {},
   "outputs": [
    {
     "data": {
      "text/plain": [
       "(0.0, 0.0, 1.0, 1.0)"
      ]
     },
     "execution_count": 25,
     "metadata": {},
     "output_type": "execute_result"
    }
   ],
   "source": [
    "line.bounds"
   ]
  },
  {
   "cell_type": "code",
   "execution_count": 26,
   "metadata": {},
   "outputs": [
    {
     "data": {
      "text/plain": [
       "2"
      ]
     },
     "execution_count": 26,
     "metadata": {},
     "output_type": "execute_result"
    }
   ],
   "source": [
    "len(line.coords)"
   ]
  },
  {
   "cell_type": "code",
   "execution_count": 27,
   "metadata": {},
   "outputs": [
    {
     "data": {
      "text/plain": [
       "(1.0, 1.0)"
      ]
     },
     "execution_count": 27,
     "metadata": {},
     "output_type": "execute_result"
    }
   ],
   "source": [
    "line.coords[-1]"
   ]
  },
  {
   "cell_type": "code",
   "execution_count": 28,
   "metadata": {},
   "outputs": [
    {
     "data": {
      "text/plain": [
       "3.414213562373095"
      ]
     },
     "execution_count": 28,
     "metadata": {},
     "output_type": "execute_result"
    }
   ],
   "source": [
    "from shapely import LinearRing\n",
    "ring = LinearRing([(0, 0), (1, 1), (1, 0)])\n",
    "ring.area\n",
    "ring.length"
   ]
  },
  {
   "cell_type": "code",
   "execution_count": 29,
   "metadata": {},
   "outputs": [
    {
     "data": {
      "image/svg+xml": [
       "<svg xmlns=\"http://www.w3.org/2000/svg\" xmlns:xlink=\"http://www.w3.org/1999/xlink\" width=\"100.0\" height=\"100.0\" viewBox=\"-0.04 -0.04 1.08 1.08\" preserveAspectRatio=\"xMinYMin meet\"><g transform=\"matrix(1,0,0,-1,0,1.0)\"><polyline fill=\"none\" stroke=\"#66cc99\" stroke-width=\"0.0216\" points=\"0.0,0.0 1.0,1.0 1.0,0.0 0.0,0.0\" opacity=\"0.8\" /></g></svg>"
      ],
      "text/plain": [
       "<LINEARRING (0 0, 1 1, 1 0, 0 0)>"
      ]
     },
     "execution_count": 29,
     "metadata": {},
     "output_type": "execute_result"
    }
   ],
   "source": [
    "ring"
   ]
  },
  {
   "cell_type": "code",
   "execution_count": 32,
   "metadata": {},
   "outputs": [
    {
     "data": {
      "text/plain": [
       "[(0.0, 0.0), (1.0, 1.0), (1.0, 0.0), (0.0, 0.0)]"
      ]
     },
     "execution_count": 32,
     "metadata": {},
     "output_type": "execute_result"
    }
   ],
   "source": [
    "list(ring.coords)"
   ]
  },
  {
   "cell_type": "code",
   "execution_count": 35,
   "metadata": {},
   "outputs": [],
   "source": [
    "poly = Polygon([(0, 0), (1, 1), (1, 0)])"
   ]
  },
  {
   "cell_type": "code",
   "execution_count": 36,
   "metadata": {},
   "outputs": [
    {
     "data": {
      "text/plain": [
       "[(0.0, 0.0), (1.0, 1.0), (1.0, 0.0), (0.0, 0.0)]"
      ]
     },
     "execution_count": 36,
     "metadata": {},
     "output_type": "execute_result"
    }
   ],
   "source": [
    "list(poly.exterior.coords)"
   ]
  },
  {
   "cell_type": "code",
   "execution_count": 37,
   "metadata": {},
   "outputs": [],
   "source": [
    "coords = [(0, 0), (1, 1), (1, 0)]"
   ]
  },
  {
   "cell_type": "code",
   "execution_count": 38,
   "metadata": {},
   "outputs": [],
   "source": [
    "r = LinearRing(coords)"
   ]
  },
  {
   "cell_type": "code",
   "execution_count": 39,
   "metadata": {},
   "outputs": [],
   "source": [
    "s = Polygon(r)"
   ]
  },
  {
   "cell_type": "code",
   "execution_count": 40,
   "metadata": {},
   "outputs": [
    {
     "data": {
      "text/plain": [
       "0.5"
      ]
     },
     "execution_count": 40,
     "metadata": {},
     "output_type": "execute_result"
    }
   ],
   "source": [
    "s.area"
   ]
  },
  {
   "cell_type": "code",
   "execution_count": 41,
   "metadata": {},
   "outputs": [],
   "source": [
    "t = Polygon(s.buffer(1.0).exterior, [r])"
   ]
  },
  {
   "cell_type": "code",
   "execution_count": 42,
   "metadata": {},
   "outputs": [
    {
     "data": {
      "image/svg+xml": [
       "<svg xmlns=\"http://www.w3.org/2000/svg\" xmlns:xlink=\"http://www.w3.org/1999/xlink\" width=\"100.0\" height=\"100.0\" viewBox=\"-1.12 -1.12 3.24 3.24\" preserveAspectRatio=\"xMinYMin meet\"><g transform=\"matrix(1,0,0,-1,0,1.0)\"><path fill-rule=\"evenodd\" fill=\"#66cc99\" stroke=\"#555555\" stroke-width=\"0.06480000000000001\" opacity=\"0.6\" d=\"M 0.0,-1.0 L -0.09801714032956045,-0.9951847266721969 L -0.19509032201612866,-0.9807852804032303 L -0.29028467725446244,-0.9569403357322088 L -0.38268343236509034,-0.9238795325112865 L -0.47139673682599786,-0.8819212643483549 L -0.5555702330196022,-0.8314696123025452 L -0.6343932841636459,-0.7730104533627367 L -0.7071067811865477,-0.7071067811865475 L -0.7730104533627371,-0.6343932841636453 L -0.8314696123025455,-0.555570233019602 L -0.881921264348355,-0.47139673682599764 L -0.9238795325112868,-0.38268343236508967 L -0.9569403357322089,-0.2902846772544621 L -0.9807852804032304,-0.19509032201612836 L -0.9951847266721969,-0.09801714032956059 L -1.0,1.2246467991473532e-16 L -0.9951847266721968,0.09801714032956083 L -0.9807852804032304,0.1950903220161286 L -0.9569403357322088,0.2902846772544624 L -0.9238795325112867,0.3826834323650899 L -0.8819212643483549,0.47139673682599786 L -0.8314696123025453,0.5555702330196022 L -0.773010453362737,0.6343932841636455 L -0.7071067811865475,0.7071067811865475 L 0.29289321881345254,1.7071067811865475 L 0.3656067158363546,1.773010453362737 L 0.44442976698039804,1.8314696123025453 L 0.5286032631740023,1.881921264348355 L 0.6173165676349103,1.9238795325112867 L 0.7097153227455378,1.956940335732209 L 0.8049096779838718,1.9807852804032304 L 0.9019828596704393,1.995184726672197 L 1.0,2.0 L 1.0980171403295609,1.9951847266721967 L 1.1950903220161284,1.9807852804032304 L 1.2902846772544623,1.956940335732209 L 1.3826834323650898,1.9238795325112867 L 1.471396736825998,1.881921264348355 L 1.5555702330196022,1.8314696123025453 L 1.6343932841636455,1.7730104533627369 L 1.7071067811865475,1.7071067811865475 L 1.7730104533627369,1.6343932841636453 L 1.8314696123025453,1.5555702330196022 L 1.881921264348355,1.4713967368259977 L 1.9238795325112867,1.3826834323650898 L 1.956940335732209,1.2902846772544623 L 1.9807852804032304,1.1950903220161284 L 1.995184726672197,1.0980171403295607 L 2.0,1.0 L 2.0,0.0 L 1.995184726672197,-0.0980171403295606 L 1.9807852804032304,-0.19509032201612825 L 1.9569403357322088,-0.29028467725446233 L 1.9238795325112867,-0.3826834323650898 L 1.881921264348355,-0.47139673682599764 L 1.8314696123025453,-0.5555702330196022 L 1.7730104533627369,-0.6343932841636455 L 1.7071067811865475,-0.7071067811865475 L 1.6343932841636455,-0.773010453362737 L 1.5555702330196022,-0.8314696123025452 L 1.471396736825998,-0.8819212643483549 L 1.3826834323650898,-0.9238795325112867 L 1.2902846772544623,-0.9569403357322089 L 1.1950903220161284,-0.9807852804032304 L 1.0980171403295609,-0.9951847266721968 L 1.0,-1.0 L 0.0,-1.0 z M 0.0,0.0 L 1.0,1.0 L 1.0,0.0 L 0.0,0.0 z\" /></g></svg>"
      ],
      "text/plain": [
       "<POLYGON ((0 -1, -0.098 -0.995, -0.195 -0.981, -0.29 -0.957, -0.383 -0.924, ...>"
      ]
     },
     "execution_count": 42,
     "metadata": {},
     "output_type": "execute_result"
    }
   ],
   "source": [
    "t"
   ]
  },
  {
   "cell_type": "code",
   "execution_count": 2,
   "metadata": {},
   "outputs": [
    {
     "data": {
      "image/png": "[encoded data removed]",
      "text/plain": [
       "<Figure size 640x480 with 1 Axes>"
      ]
     },
     "metadata": {},
     "output_type": "display_data"
    }
   ],
   "source": [
    "import networkx as nx\n",
    "import matplotlib.pyplot as plt\n",
    "\n",
    "# Create a directed graph\n",
    "G = nx.DiGraph()\n",
    "\n",
    "# Add nodes\n",
    "G.add_node(1)\n",
    "G.add_node(2)\n",
    "G.add_node(3)\n",
    "\n",
    "# Add edges\n",
    "G.add_edge(1, 2)\n",
    "G.add_edge(2, 1)\n",
    "G.add_edge(2, 3)\n",
    "G.add_edge(3, 1)\n",
    "\n",
    "# Draw the graph\n",
    "pos = nx.spring_layout(G)  # You can use different layout algorithms\n",
    "nx.draw(G, pos, with_labels=True, arrowsize=20, node_size=700, node_color=\"skyblue\", font_size=10, font_color=\"black\", font_weight=\"bold\", edge_color=\"gray\", width=1.5)\n",
    "\n",
    "# Display the graph\n",
    "plt.show()"
   ]
  },
  {
   "cell_type": "code",
   "execution_count": 3,
   "metadata": {},
   "outputs": [
    {
     "name": "stdout",
     "output_type": "stream",
     "text": [
      "(1, 2)\n",
      "(2, 1)\n",
      "(2, 3)\n",
      "(3, 1)\n"
     ]
    }
   ],
   "source": [
    "for edge in G.edges:\n",
    "    print(edge)"
   ]
  },
  {
   "cell_type": "code",
   "execution_count": null,
   "metadata": {},
   "outputs": [],
   "source": []
  }
 ],
 "metadata": {
  "kernelspec": {
   "display_name": "DataSig",
   "language": "python",
   "name": "python3"
  },
  "language_info": {
   "codemirror_mode": {
    "name": "ipython",
    "version": 3
   },
   "file_extension": ".py",
   "mimetype": "text/x-python",
   "name": "python",
   "nbconvert_exporter": "python",
   "pygments_lexer": "ipython3",
   "version": "3.11.0"
  },
  "orig_nbformat": 4
 },
 "nbformat": 4,
 "nbformat_minor": 2
}
